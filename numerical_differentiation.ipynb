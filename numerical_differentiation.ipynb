{
 "cells": [
  {
   "cell_type": "markdown",
   "metadata": {},
   "source": [
    "A primer on numerical differentiation\n",
    "========================\n",
    "\n",
    "In order to numerically evaluate a derivative $y'(x)=dy/dx$ at point $x_0$, we approximate is by using finite differences:\n",
    "Therefore we find: $$\\begin{eqnarray}\n",
    "&& dx \\approx \\Delta x &=&x_1-x_0, \\\\\n",
    "&& dy \\approx \\Delta y &=&y_1-y_0 = y(x_1)-y(x_0) = y(x_0+\\Delta_x)-y(x_0),\\end{eqnarray}$$\n",
    "\n",
    "Then we re-write the derivative in terms of discrete differences as:\n",
    "$$\\frac{dy}{dx} \\approx \\frac{\\Delta y}{\\Delta x}$$\n",
    "\n",
    "#### Example\n",
    "\n",
    "Let's look at the accuracy of this approximation in terms of the interval $\\Delta x$. In our first example we will evaluate the derivative of $y=x^2$ at $x=1$."
   ]
  },
  {
   "cell_type": "code",
   "execution_count": 1,
   "metadata": {},
   "outputs": [
    {
     "name": "stdout",
     "output_type": "stream",
     "text": [
      " 1e+00   3.0000000000000000   1.0000000000000000\n",
      " 1e-01   2.1000000000000019   0.1000000000000019\n",
      " 1e-02   2.0100000000000007   0.0100000000000007\n",
      " 1e-03   2.0009999999996975   0.0009999999996975\n",
      " 1e-04   2.0000999999991720   0.0000999999991720\n",
      " 1e-05   2.0000100000139298   0.0000100000139298\n",
      " 1e-06   2.0000009999243669   0.0000009999243669\n",
      " 1e-07   2.0000001010878061   0.0000001010878061\n",
      " 1e-08   1.9999999878450576  -0.0000000121549424\n",
      " 1e-09   2.0000001654807416   0.0000001654807416\n",
      " 1e-10   2.0000001654807416   0.0000001654807416\n"
     ]
    }
   ],
   "source": [
    "dx = 1.\n",
    "x = 1.\n",
    "while(dx > 1.e-10):\n",
    "    dy = (x+dx)*(x+dx)-x*x\n",
    "    d = dy / dx\n",
    "    print(\"%6.0e %20.16f %20.16f\" % (dx, d, d-2.))\n",
    "    dx = dx / 10.\n",
    "    "
   ]
  },
  {
   "cell_type": "markdown",
   "metadata": {},
   "source": [
    "Why is it that the sequence does not converge? This is due to the round-off errors in the representation of the floating point numbers. To see this, we can simply type:"
   ]
  },
  {
   "cell_type": "code",
   "execution_count": 2,
   "metadata": {},
   "outputs": [
    {
     "data": {
      "text/plain": [
       "0.0002000099999999172"
      ]
     },
     "execution_count": 2,
     "metadata": {},
     "output_type": "execute_result"
    }
   ],
   "source": [
    "((1.+0.0001)*(1+0.0001)-1)"
   ]
  },
  {
   "cell_type": "markdown",
   "metadata": {},
   "source": [
    "Let's try using powers of 1/2"
   ]
  },
  {
   "cell_type": "code",
   "execution_count": 2,
   "metadata": {},
   "outputs": [
    {
     "name": "stdout",
     "output_type": "stream",
     "text": [
      "1.00000e+00   3.0000000000000000   1.0000000000000000\n",
      "5.00000e-01   2.5000000000000000   0.5000000000000000\n",
      "2.50000e-01   2.2500000000000000   0.2500000000000000\n",
      "1.25000e-01   2.1250000000000000   0.1250000000000000\n",
      "6.25000e-02   2.0625000000000000   0.0625000000000000\n",
      "3.12500e-02   2.0312500000000000   0.0312500000000000\n",
      "1.56250e-02   2.0156250000000000   0.0156250000000000\n",
      "7.81250e-03   2.0078125000000000   0.0078125000000000\n",
      "3.90625e-03   2.0039062500000000   0.0039062500000000\n",
      "1.95312e-03   2.0019531250000000   0.0019531250000000\n",
      "9.76562e-04   2.0009765625000000   0.0009765625000000\n",
      "4.88281e-04   2.0004882812500000   0.0004882812500000\n",
      "2.44141e-04   2.0002441406250000   0.0002441406250000\n",
      "1.22070e-04   2.0001220703125000   0.0001220703125000\n",
      "6.10352e-05   2.0000610351562500   0.0000610351562500\n",
      "3.05176e-05   2.0000305175781250   0.0000305175781250\n",
      "1.52588e-05   2.0000152587890625   0.0000152587890625\n",
      "7.62939e-06   2.0000076293945312   0.0000076293945312\n",
      "3.81470e-06   2.0000038146972656   0.0000038146972656\n",
      "1.90735e-06   2.0000019073486328   0.0000019073486328\n",
      "9.53674e-07   2.0000009536743164   0.0000009536743164\n",
      "4.76837e-07   2.0000004768371582   0.0000004768371582\n",
      "2.38419e-07   2.0000002384185791   0.0000002384185791\n",
      "1.19209e-07   2.0000001192092896   0.0000001192092896\n",
      "5.96046e-08   2.0000000596046448   0.0000000596046448\n",
      "2.98023e-08   2.0000000298023224   0.0000000298023224\n",
      "1.49012e-08   2.0000000149011612   0.0000000149011612\n",
      "7.45058e-09   2.0000000000000000   0.0000000000000000\n",
      "3.72529e-09   2.0000000000000000   0.0000000000000000\n",
      "1.86265e-09   2.0000000000000000   0.0000000000000000\n",
      "9.31323e-10   2.0000000000000000   0.0000000000000000\n",
      "4.65661e-10   2.0000000000000000   0.0000000000000000\n",
      "2.32831e-10   2.0000000000000000   0.0000000000000000\n",
      "1.16415e-10   2.0000000000000000   0.0000000000000000\n"
     ]
    }
   ],
   "source": [
    "dx = 1.\n",
    "x = 1.\n",
    "while(dx > 1.e-10):\n",
    "    dy = (x+dx)*(x+dx)-x*x\n",
    "    d = dy / dx\n",
    "    print(\"%8.5e %20.16f %20.16f\" % (dx, d, d-2.))\n",
    "    dx = dx / 2."
   ]
  },
  {
   "cell_type": "markdown",
   "metadata": {},
   "source": [
    "In addition, one could consider the midpoint difference, defined as:\n",
    "$$ dy \\approx \\Delta y = y(x_0+\\frac{\\Delta_x}{2})-y(x_0-\\frac{\\Delta_x}{2}).$$\n",
    "\n",
    "For a more complex function we need to import it from math. For instance, let's calculate the derivative of $sin(x)$ at $x=\\pi/4$, including both the forward and midpoint differences."
   ]
  },
  {
   "cell_type": "code",
   "execution_count": 3,
   "metadata": {},
   "outputs": [
    {
     "name": "stdout",
     "output_type": "stream",
     "text": [
      "1.00000e+00   0.2699544827129281  -0.4371522984736195   0.6780100988420897  -0.0290966823444578\n",
      "5.00000e-01   0.5048856975964857  -0.2022210835900619   0.6997640691250939  -0.0073427120614536\n",
      "2.50000e-01   0.6118351194488105  -0.0952716617377370   0.7052667953545546  -0.0018399858319930\n",
      "1.25000e-01   0.6611301360648305  -0.0459766451217171   0.7066465151141275  -0.0004602660724201\n",
      "6.25000e-02   0.6845566203276618  -0.0225501608588857   0.7069916978116630  -0.0001150833748845\n",
      "3.12500e-02   0.6959440534591224  -0.0111627277274252   0.7070780092891873  -0.0000287718973603\n",
      "1.56250e-02   0.7015538499518428  -0.0055529312347048   0.7070995881463560  -0.0000071930401916\n",
      "7.81250e-03   0.7043374663312534  -0.0027693148552942   0.7071049829223881  -0.0000017982641595\n",
      "3.90625e-03   0.7057239167464786  -0.0013828644400690   0.7071063316202526  -0.0000004495662950\n",
      "1.95312e-03   0.7064157978737171  -0.0006909833128305   0.7071066687949497  -0.0000001123915979\n",
      "9.76562e-04   0.7067614018393442  -0.0003453793472034   0.7071067530886239  -0.0000000280979237\n",
      "4.88281e-04   0.7069341196004189  -0.0001726615861287   0.7071067741621846  -0.0000000070243630\n",
      "2.44141e-04   0.7070204574165473  -0.0000863237700003   0.7071067794299779  -0.0000000017565697\n",
      "1.22070e-04   0.7070636210564771  -0.0000431601300704   0.7071067807473810  -0.0000000004391666\n",
      "6.10352e-05   0.7070852015604032  -0.0000215796261444   0.7071067810775276  -0.0000000001090200\n",
      "3.05176e-05   0.7070959914817649  -0.0000107897047826   0.7071067811593821  -0.0000000000271655\n",
      "1.52588e-05   0.7071013863605913  -0.0000053948259563   0.7071067811848479  -0.0000000000016996\n",
      "7.62939e-06   0.7071040837763576  -0.0000026974101900   0.7071067811775720  -0.0000000000089756\n",
      "3.81470e-06   0.7071054324624129  -0.0000013487241347   0.7071067811921239   0.0000000000055763\n",
      "1.90735e-06   0.7071061067981645  -0.0000006743883830   0.7071067811921239   0.0000000000055763\n",
      "9.53674e-07   0.7071064439369366  -0.0000003372496110   0.7071067811921239   0.0000000000055763\n",
      "4.76837e-07   0.7071066123899072  -0.0000001687966403   0.7071067814249545   0.0000000002384070\n",
      "2.38419e-07   0.7071066969074309  -0.0000000842791167   0.7071067811921239   0.0000000000055763\n",
      "1.19209e-07   0.7071067383512855  -0.0000000428352621   0.7071067811921239   0.0000000000055763\n",
      "5.96046e-08   0.7071067597717047  -0.0000000214148429   0.7071067821234465   0.0000000009368989\n",
      "2.98023e-08   0.7071067690849304  -0.0000000121016172   0.7071067802608013  -0.0000000009257463\n",
      "1.49012e-08   0.7071067690849304  -0.0000000121016172   0.7071067839860916   0.0000000027995440\n",
      "7.45058e-09   0.7071067690849304  -0.0000000121016172   0.7071067839860916   0.0000000027995440\n",
      "3.72529e-09   0.7071067690849304  -0.0000000121016172   0.7071067988872528   0.0000000177007052\n",
      "1.86265e-09   0.7071067690849304  -0.0000000121016172   0.7071067690849304  -0.0000000121016172\n",
      "9.31323e-10   0.7071067094802856  -0.0000000717062619   0.7071067094802856  -0.0000000717062619\n",
      "4.65661e-10   0.7071065902709961  -0.0000001909155515   0.7071068286895752   0.0000000475030276\n",
      "2.32831e-10   0.7071065902709961  -0.0000001909155515   0.7071070671081543   0.0000002859216067\n",
      "1.16415e-10   0.7071065902709961  -0.0000001909155515   0.7071065902709961  -0.0000001909155515\n"
     ]
    }
   ],
   "source": [
    "from math import sin, sqrt, pi\n",
    "dx = 1.\n",
    "while(dx > 1.e-10):\n",
    "    x = pi/4.\n",
    "    d1 = sin(x+dx) - sin(x); #forward\n",
    "    d2 = sin(x+dx*0.5) - sin(x-dx*0.5); # midpoint\n",
    "    d1 = d1 / dx;\n",
    "    d2 = d2 / dx;\n",
    "    print(\"%8.5e %20.16f %20.16f %20.16f %20.16f\" % (dx, d1, d1-sqrt(2.)/2., d2, d2-sqrt(2.)/2.) )\n",
    "    dx = dx / 2."
   ]
  },
  {
   "cell_type": "markdown",
   "metadata": {},
   "source": [
    "A more in-depth discussion about round-off erros in numerical differentiation can be found <a href=\"http://www.uio.no/studier/emner/matnat/math/MAT-INF1100/h10/kompendiet/kap11.pdf\">here</a>"
   ]
  },
  {
   "cell_type": "markdown",
   "metadata": {},
   "source": [
    "### Special functions in **numpy**\n",
    "\n",
    "numpy provides a simple method **diff()** to calculate the numerical derivatives of a dataset stored in an array by forward differences. The function **gradient()** will calculate the derivatives by midpoint (or central) difference, that provides a more accurate result. "
   ]
  },
  {
   "cell_type": "code",
   "execution_count": 4,
   "metadata": {},
   "outputs": [
    {
     "name": "stdout",
     "output_type": "stream",
     "text": [
      "[  1.   2.   4.   6.   8.  10.  12.  14.  16.  17.]\n"
     ]
    },
    {
     "data": {
      "image/png": "[encoded data removed]",
      "text/plain": [
       "<matplotlib.figure.Figure at 0x2835d029390>"
      ]
     },
     "metadata": {
      "needs_background": "light"
     },
     "output_type": "display_data"
    }
   ],
   "source": [
    "%matplotlib inline\n",
    "import numpy as np\n",
    "from matplotlib import pyplot\n",
    "\n",
    "y = lambda x: x*x\n",
    "\n",
    "x1 = np.arange(0,10,1)\n",
    "x2 = np.arange(0,10,0.1)\n",
    "\n",
    "y1 = np.gradient(y(x1), 1.)\n",
    "print(y1)\n",
    "\n",
    "pyplot.plot(x1,np.gradient(y(x1),1.),'r--o');\n",
    "pyplot.plot(x1[:x1.size-1],np.diff(y(x1))/np.diff(x1),'b--x');"
   ]
  },
  {
   "cell_type": "markdown",
   "metadata": {},
   "source": [
    "Notice above that **gradient()** uses forward and backward differences at the two ends."
   ]
  },
  {
   "cell_type": "code",
   "execution_count": 6,
   "metadata": {},
   "outputs": [
    {
     "data": {
      "image/png": "[encoded data removed]",
      "text/plain": [
       "<matplotlib.figure.Figure at 0x103d36f90>"
      ]
     },
     "metadata": {},
     "output_type": "display_data"
    }
   ],
   "source": [
    "pyplot.plot(x2,np.gradient(y(x2),0.1),'b--o');"
   ]
  },
  {
   "cell_type": "markdown",
   "metadata": {},
   "source": [
    "More discussion about numerical differentiation, including higher order methods with error extrapolation can be found <a href=\"http://young.physics.ucsc.edu/115/diff.pdf\">here</a>. \n",
    "\n",
    "The module **scipy** also includes methods to accurately calculate derivatives:"
   ]
  },
  {
   "cell_type": "code",
   "execution_count": 8,
   "metadata": {},
   "outputs": [
    {
     "name": "stdout",
     "output_type": "stream",
     "text": [
      " 1e+00   2.0000000000000000   0.0000000000000000\n",
      " 1e-01   2.0000000000000004   0.0000000000000004\n",
      " 1e-02   2.0000000000000018   0.0000000000000018\n",
      " 1e-03   1.9999999999998352  -0.0000000000001648\n",
      " 1e-04   1.9999999999992246  -0.0000000000007754\n",
      " 1e-05   2.0000000000020002   0.0000000000020002\n",
      " 1e-06   2.0000000000019997   0.0000000000019997\n",
      " 1e-07   2.0000000000575109   0.0000000000575109\n",
      " 1e-08   1.9999999933961727  -0.0000000066038273\n",
      " 1e-09   2.0000000544584391   0.0000000544584391\n",
      " 1e-10   2.0000001654807416   0.0000001654807416\n"
     ]
    }
   ],
   "source": [
    "from scipy.misc import derivative\n",
    "\n",
    "y = lambda x: x**2\n",
    "\n",
    "dx = 1.\n",
    "x = 1.\n",
    "\n",
    "while(dx > 1.e-10):\n",
    "    d = derivative(y, x, dx, n=1, order=3)\n",
    "    print(\"%6.0e %20.16f %20.16f\" % (dx, d, d-2.))\n",
    "    dx = dx / 10."
   ]
  },
  {
   "cell_type": "markdown",
   "metadata": {},
   "source": [
    "One way to improve the roundoff errors is by simply using the **decimal** package"
   ]
  },
  {
   "cell_type": "code",
   "execution_count": 126,
   "metadata": {},
   "outputs": [
    {
     "name": "stdout",
     "output_type": "stream",
     "text": [
      " 1e+00   3.0000000000000000   1.0000000000000000\n",
      " 1e-01   2.1000000000000001   0.1000000000000000\n",
      " 1e-02   2.0099999999999998   0.0100000000000000\n",
      " 1e-03   2.0009999999999999   0.0010000000000000\n",
      " 1e-04   2.0001000000000002   0.0001000000000000\n",
      " 1e-05   2.0000100000000001   0.0000100000000000\n",
      " 1e-06   2.0000010000000001   0.0000010000000000\n",
      " 1e-07   2.0000000999999998   0.0000001000000000\n",
      " 1e-08   2.0000000099999999   0.0000000100000000\n",
      " 1e-09   2.0000000010000001   0.0000000010000000\n",
      " 1e-10   2.0000000001000000   0.0000000001000000\n"
     ]
    }
   ],
   "source": [
    "from decimal import Decimal\n",
    "\n",
    "dx = Decimal(\"1.\")\n",
    "while(dx >= Decimal(\"1.e-10\")):\n",
    "    x = Decimal(\"1.\")\n",
    "    dy = (x+dx)*(x+dx)-x*x\n",
    "    d = dy / dx\n",
    "    print(\"%6.0e %20.16f %20.16f\" % (dx, d, d-Decimal(\"2.\")))\n",
    "    dx = dx / Decimal(\"10.\")"
   ]
  }
 ],
 "metadata": {
  "kernelspec": {
   "display_name": "Python 3",
   "language": "python",
   "name": "python3"
  },
  "language_info": {
   "codemirror_mode": {
    "name": "ipython",
    "version": 3
   },
   "file_extension": ".py",
   "mimetype": "text/x-python",
   "name": "python",
   "nbconvert_exporter": "python",
   "pygments_lexer": "ipython3",
   "version": "3.6.6"
  }
 },
 "nbformat": 4,
 "nbformat_minor": 1
}
